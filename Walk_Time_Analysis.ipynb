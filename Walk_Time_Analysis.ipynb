{
 "cells": [
  {
   "cell_type": "code",
   "execution_count": 43,
   "metadata": {},
   "outputs": [],
   "source": [
    "import pandas as pd\n",
    "import numpy as np\n",
    "import random\n",
    "\n",
    "file = 'schedule_final.xls'\n",
    "schedule = pd.read_excel(file)"
   ]
  },
  {
   "cell_type": "code",
   "execution_count": 44,
   "metadata": {},
   "outputs": [],
   "source": [
    "array = schedule.values.tolist()\n",
    "time_table = []\n",
    "time_list = []\n",
    "space_list = []\n",
    "loc_list = []\n",
    "lon_lat_list = []\n",
    "room_table = []"
   ]
  },
  {
   "cell_type": "code",
   "execution_count": 45,
   "metadata": {},
   "outputs": [],
   "source": [
    "from pyproj import Proj, transform\n",
    "inProj = Proj(\"+init=epsg:3857\")\n",
    "outProj = Proj(\"+init=epsg:4326\")\n",
    "for i, row in enumerate(array):\n",
    "    space_idx = schedule.columns.get_loc(\"space\")\n",
    "    time_idx = schedule.columns.get_loc(\"walk_time\")\n",
    "    loc_idx = schedule.columns.get_loc(\"Building\")\n",
    "    x_idx = schedule.columns.get_loc(\"X_Coor\")\n",
    "    y_idx = schedule.columns.get_loc(\"Y_Coor\")\n",
    "    \n",
    "    lon_lat = transform(inProj, outProj, row[x_idx], row[y_idx])\n",
    "    \n",
    "    space_list.append(row[space_idx])\n",
    "    time_list.append(row[time_idx])\n",
    "    loc_list.append(row[loc_idx])\n",
    "    lon_lat_list.append(lon_lat)"
   ]
  },
  {
   "cell_type": "code",
   "execution_count": 46,
   "metadata": {},
   "outputs": [],
   "source": [
    "def checkIfExist(r1, r2, name):\n",
    "    count = 0\n",
    "    for row in name:\n",
    "        if name == time_table:\n",
    "            if r1 == row[0] and r2 == row[4]:\n",
    "                num = row[len(row)-1] + 1\n",
    "                row[len(row)-1] = num\n",
    "                count = row[len(row)-1]\n",
    "        else:\n",
    "            if r1 == row[0]:\n",
    "                count = 1\n",
    "    return count\n",
    "\n",
    "for i, r in enumerate(time_list):\n",
    "    if i < (len(time_list) - 1) and r > 0 and r < 999:\n",
    "        next_idx = i + 1\n",
    "        room1 = space_list[i]\n",
    "        room2 = space_list[next_idx]\n",
    "        \n",
    "        count = checkIfExist(room1, room2, time_table)\n",
    "        \n",
    "        Building1 = loc_list[i]\n",
    "        Building2 = loc_list[next_idx]\n",
    "        LonLat1 = lon_lat_list[i]\n",
    "        LonLat2 = lon_lat_list[next_idx]\n",
    "        \n",
    "        if count < 1:\n",
    "            time_table.append([room1, Building1] + [LonLat1[0], LonLat1[1]] + [room2, Building2] + [LonLat2[0], LonLat2[1]] + [r, 1] )\n"
   ]
  },
  {
   "cell_type": "code",
   "execution_count": 47,
   "metadata": {},
   "outputs": [],
   "source": [
    "df = pd.DataFrame(time_table, columns = [\"SpaceID_1\", \"Building_1\", \"Lon_1\", \"Lat_1\", \"SpaceID_2\", \"Building_2\", \"Lon_2\",\"Lat_2\",\"Walk_Time\",\"No_of_Occurance\"])\n",
    "df.to_csv('time2')\n",
    "\n",
    "from pandas import ExcelWriter\n",
    "\n",
    "writer = ExcelWriter('time.xlsx')\n",
    "df.to_excel(writer,'Sheet1')\n",
    "writer.save()"
   ]
  },
  {
   "cell_type": "code",
   "execution_count": 179,
   "metadata": {
    "scrolled": true
   },
   "outputs": [
    {
     "data": {
      "image/png": "[encoded data removed]",
      "text/plain": [
       "<matplotlib.figure.Figure at 0x10c362be0>"
      ]
     },
     "metadata": {},
     "output_type": "display_data"
    }
   ],
   "source": [
    "import matplotlib.pyplot as plt\n",
    "import numpy as np\n",
    "\n",
    "#import plotly.plotly as py\n",
    "\n",
    "time = [i for i in time_list if i > 0 and i < 999]\n",
    "\n",
    "plt.hist(time)\n",
    "plt.title(\"Walk Time Per Pre-Major Students at UW\")\n",
    "plt.xlabel(\"Walk Time (Minute)\")\n",
    "plt.ylabel(\"Count\")\n",
    "\n",
    "fig = plt.gcf()\n",
    "\n",
    "#plot_url = py.plot_mpl(fig, filename='mpl-basic-histogram')"
   ]
  },
  {
   "cell_type": "code",
   "execution_count": 188,
   "metadata": {},
   "outputs": [
    {
     "data": {
      "text/plain": [
       "2132"
      ]
     },
     "execution_count": 188,
     "metadata": {},
     "output_type": "execute_result"
    }
   ],
   "source": [
    "# number of sampled premajor students\n",
    "len(time)"
   ]
  },
  {
   "cell_type": "code",
   "execution_count": 186,
   "metadata": {},
   "outputs": [
    {
     "data": {
      "text/plain": [
       "496"
      ]
     },
     "execution_count": 186,
     "metadata": {},
     "output_type": "execute_result"
    }
   ],
   "source": [
    "# number of students walked over 10 mins to class\n",
    "over_ten_min = [i for i in time_list if i >= 10 and i < 999]\n",
    "len(over_ten_min)"
   ]
  },
  {
   "cell_type": "code",
   "execution_count": 187,
   "metadata": {},
   "outputs": [
    {
     "data": {
      "text/plain": [
       "23"
      ]
     },
     "execution_count": 187,
     "metadata": {},
     "output_type": "execute_result"
    }
   ],
   "source": [
    "#percentage of students walked over 10 mins to class\n",
    "percent_over_ten = int(round((len(over_ten_min) / len(time)) * 100))\n",
    "percent_over_ten"
   ]
  },
  {
   "cell_type": "code",
   "execution_count": null,
   "metadata": {},
   "outputs": [],
   "source": []
  }
 ],
 "metadata": {
  "kernelspec": {
   "display_name": "Python 3",
   "language": "python",
   "name": "python3"
  },
  "language_info": {
   "codemirror_mode": {
    "name": "ipython",
    "version": 3
   },
   "file_extension": ".py",
   "mimetype": "text/x-python",
   "name": "python",
   "nbconvert_exporter": "python",
   "pygments_lexer": "ipython3",
   "version": "3.6.5"
  }
 },
 "nbformat": 4,
 "nbformat_minor": 2
}
